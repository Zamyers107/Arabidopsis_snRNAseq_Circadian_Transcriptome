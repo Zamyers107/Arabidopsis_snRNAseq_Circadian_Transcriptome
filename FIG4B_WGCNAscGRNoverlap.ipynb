{
 "cells": [
  {
   "cell_type": "markdown",
   "id": "496ea2c3",
   "metadata": {},
   "source": [
    "# TF–Target WGCNA Clade Relationship Analysis (Python)\n",
    "\n",
    "This notebook replicates the analysis originally scripted in R, now fully in **Python**.\n",
    "\n",
    "**Steps covered:**\n",
    "1. Load edge and WGCNA clade data  \n",
    "2. Normalise cluster labels  \n",
    "3. Map each TF and target gene to its WGCNA clade within the same cluster  \n",
    "4. Flag edges where TF and target fall in the *same* vs *different* clade  \n",
    "5. Summarise and visualise the counts\n",
    "\n",
    "The bar plot is exported as **`TF_Target_Clade_Distribution.pdf`**.\n"
   ]
  },
  {
   "cell_type": "code",
   "execution_count": null,
   "id": "f416ab62",
   "metadata": {},
   "outputs": [],
   "source": [
    "import pandas as pd\n",
    "import matplotlib.pyplot as plt\n",
    "import re\n",
    "from pathlib import Path\n",
    "\n",
    "# Helper to normalise cluster labels\n",
    "def norm_cluster(series):\n",
    "    return series.str.replace('^-?c', '', regex=True).str.replace('-', '_', regex=False)\n"
   ]
  },
  {
   "cell_type": "code",
   "execution_count": null,
   "id": "64a555dd",
   "metadata": {},
   "outputs": [],
   "source": [
    "# Adjust paths as needed if running elsewhere\n",
    "clade_path = Path(\"20250417.WGCNA.GenesClustersCladesBreakdown_long_filtered.csv\")\n",
    "edges_path = Path(\"unshuffled_top95_all_clusters.tsv\")\n",
    "\n",
    "clade_df = pd.read_csv(clade_path)\n",
    "edges_df = pd.read_csv(edges_path, sep=\"\\t\")\n",
    "\n",
    "print(\"clade_df shape:\", clade_df.shape)\n",
    "print(\"edges_df shape:\", edges_df.shape)\n"
   ]
  },
  {
   "cell_type": "code",
   "execution_count": null,
   "id": "d437a43e",
   "metadata": {},
   "outputs": [],
   "source": [
    "# 1) Normalise cluster labels\n",
    "edges_df['cluster'] = norm_cluster(edges_df['cluster'])\n",
    "clade_df['cluster'] = norm_cluster(clade_df['cluster'])\n",
    "\n",
    "# 2) Ensure clade_df has a 'gid' column\n",
    "if 'gid' not in clade_df.columns:\n",
    "    gene_cols = [c for c in clade_df.columns if c not in ('cluster', 'clade')]\n",
    "    if len(gene_cols) != 1:\n",
    "        raise ValueError(\"Cannot uniquely identify gene ID column in clade_df\")\n",
    "    clade_df = clade_df.rename(columns={gene_cols[0]: 'gid'})\n"
   ]
  },
  {
   "cell_type": "code",
   "execution_count": null,
   "id": "27d64917",
   "metadata": {},
   "outputs": [],
   "source": [
    "# Build look‑up tables\n",
    "tf_lookup = clade_df[['gid', 'cluster', 'clade']].rename(columns={'gid': 'TF', 'clade': 'TF_clade'})\n",
    "target_lookup = clade_df[['gid', 'cluster', 'clade']].rename(columns={'gid': 'target', 'clade': 'target_clade'})\n",
    "\n",
    "# Join\n",
    "merged_df = edges_df.merge(tf_lookup, on=['TF', 'cluster'], how='left')                     .merge(target_lookup, on=['target', 'cluster'], how='left')\n",
    "\n",
    "# Report unmatched\n",
    "na_tf = merged_df['TF_clade'].isna().sum()\n",
    "na_target = merged_df['target_clade'].isna().sum()\n",
    "print(f\"Unmatched TF rows: {na_tf}\")\n",
    "print(f\"Unmatched target rows: {na_target}\")\n"
   ]
  },
  {
   "cell_type": "code",
   "execution_count": null,
   "id": "e52bf34e",
   "metadata": {},
   "outputs": [],
   "source": [
    "# Classify relationship\n",
    "merged_df['Clade_Relationship'] = merged_df.apply(\n",
    "    lambda r: 'Same clade' if r['TF_clade'] == r['target_clade'] else 'Different clade',\n",
    "    axis=1\n",
    ")\n",
    "\n",
    "# Summarise counts\n",
    "clade_counts = merged_df['Clade_Relationship'].value_counts().reindex(\n",
    "    ['Different clade', 'Same clade']).fillna(0).reset_index()\n",
    "clade_counts.columns = ['Clade_Relationship', 'Count']\n",
    "clade_counts\n"
   ]
  },
  {
   "cell_type": "code",
   "execution_count": null,
   "id": "2495e506",
   "metadata": {},
   "outputs": [],
   "source": [
    "plt.figure(figsize=(5,6))\n",
    "plt.bar(clade_counts['Clade_Relationship'], clade_counts['Count'], color='#2F4F4F')\n",
    "plt.ylabel('WGCNA Clade Distribution Across Clusters', fontsize=12)\n",
    "plt.tight_layout()\n",
    "plt.savefig('TF_Target_Clade_Distribution.pdf')\n",
    "plt.show()\n"
   ]
  }
 ],
 "metadata": {},
 "nbformat": 4,
 "nbformat_minor": 5
}
